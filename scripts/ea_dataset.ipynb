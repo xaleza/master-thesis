{
  "cells": [
    {
      "cell_type": "markdown",
      "metadata": {},
      "source": [
        "# Exploratory Analysis of the Dataset"
      ]
    },
    {
      "cell_type": "code",
      "execution_count": 3,
      "metadata": {
        "id": "72Cd0k74YiO8"
      },
      "outputs": [],
      "source": [
        "import pandas as pd\n",
        "\n",
        "df = pd.read_csv('../data/train.csv')"
      ]
    },
    {
      "cell_type": "code",
      "execution_count": 4,
      "metadata": {
        "colab": {
          "base_uri": "https://localhost:8080/",
          "height": 206
        },
        "id": "Mh58Bgr8Y5RX",
        "outputId": "c8d10753-5efb-4ad6-9ca9-d90b1d10d0fe"
      },
      "outputs": [
        {
          "data": {
            "text/html": [
              "<div>\n",
              "<style scoped>\n",
              "    .dataframe tbody tr th:only-of-type {\n",
              "        vertical-align: middle;\n",
              "    }\n",
              "\n",
              "    .dataframe tbody tr th {\n",
              "        vertical-align: top;\n",
              "    }\n",
              "\n",
              "    .dataframe thead th {\n",
              "        text-align: right;\n",
              "    }\n",
              "</style>\n",
              "<table border=\"1\" class=\"dataframe\">\n",
              "  <thead>\n",
              "    <tr style=\"text-align: right;\">\n",
              "      <th></th>\n",
              "      <th>image_id</th>\n",
              "      <th>class_name</th>\n",
              "      <th>class_id</th>\n",
              "      <th>rad_id</th>\n",
              "      <th>x_min</th>\n",
              "      <th>y_min</th>\n",
              "      <th>x_max</th>\n",
              "      <th>y_max</th>\n",
              "    </tr>\n",
              "  </thead>\n",
              "  <tbody>\n",
              "    <tr>\n",
              "      <th>0</th>\n",
              "      <td>50a418190bc3fb1ef1633bf9678929b3</td>\n",
              "      <td>No finding</td>\n",
              "      <td>14</td>\n",
              "      <td>R11</td>\n",
              "      <td>NaN</td>\n",
              "      <td>NaN</td>\n",
              "      <td>NaN</td>\n",
              "      <td>NaN</td>\n",
              "    </tr>\n",
              "    <tr>\n",
              "      <th>1</th>\n",
              "      <td>21a10246a5ec7af151081d0cd6d65dc9</td>\n",
              "      <td>No finding</td>\n",
              "      <td>14</td>\n",
              "      <td>R7</td>\n",
              "      <td>NaN</td>\n",
              "      <td>NaN</td>\n",
              "      <td>NaN</td>\n",
              "      <td>NaN</td>\n",
              "    </tr>\n",
              "    <tr>\n",
              "      <th>2</th>\n",
              "      <td>9a5094b2563a1ef3ff50dc5c7ff71345</td>\n",
              "      <td>Cardiomegaly</td>\n",
              "      <td>3</td>\n",
              "      <td>R10</td>\n",
              "      <td>691.0</td>\n",
              "      <td>1375.0</td>\n",
              "      <td>1653.0</td>\n",
              "      <td>1831.0</td>\n",
              "    </tr>\n",
              "    <tr>\n",
              "      <th>3</th>\n",
              "      <td>051132a778e61a86eb147c7c6f564dfe</td>\n",
              "      <td>Aortic enlargement</td>\n",
              "      <td>0</td>\n",
              "      <td>R10</td>\n",
              "      <td>1264.0</td>\n",
              "      <td>743.0</td>\n",
              "      <td>1611.0</td>\n",
              "      <td>1019.0</td>\n",
              "    </tr>\n",
              "    <tr>\n",
              "      <th>4</th>\n",
              "      <td>063319de25ce7edb9b1c6b8881290140</td>\n",
              "      <td>No finding</td>\n",
              "      <td>14</td>\n",
              "      <td>R10</td>\n",
              "      <td>NaN</td>\n",
              "      <td>NaN</td>\n",
              "      <td>NaN</td>\n",
              "      <td>NaN</td>\n",
              "    </tr>\n",
              "  </tbody>\n",
              "</table>\n",
              "</div>"
            ],
            "text/plain": [
              "                           image_id          class_name  class_id rad_id  \\\n",
              "0  50a418190bc3fb1ef1633bf9678929b3          No finding        14    R11   \n",
              "1  21a10246a5ec7af151081d0cd6d65dc9          No finding        14     R7   \n",
              "2  9a5094b2563a1ef3ff50dc5c7ff71345        Cardiomegaly         3    R10   \n",
              "3  051132a778e61a86eb147c7c6f564dfe  Aortic enlargement         0    R10   \n",
              "4  063319de25ce7edb9b1c6b8881290140          No finding        14    R10   \n",
              "\n",
              "    x_min   y_min   x_max   y_max  \n",
              "0     NaN     NaN     NaN     NaN  \n",
              "1     NaN     NaN     NaN     NaN  \n",
              "2   691.0  1375.0  1653.0  1831.0  \n",
              "3  1264.0   743.0  1611.0  1019.0  \n",
              "4     NaN     NaN     NaN     NaN  "
            ]
          },
          "execution_count": 4,
          "metadata": {},
          "output_type": "execute_result"
        }
      ],
      "source": [
        "df.head()"
      ]
    },
    {
      "cell_type": "markdown",
      "metadata": {
        "id": "pOd92ZXWeouK"
      },
      "source": [
        "# Aortic Enlargement"
      ]
    },
    {
      "cell_type": "code",
      "execution_count": 5,
      "metadata": {
        "colab": {
          "base_uri": "https://localhost:8080/"
        },
        "id": "qGGtkUFWY89_",
        "outputId": "d87b4f0d-d490-4162-83e7-213e4c41c731"
      },
      "outputs": [
        {
          "name": "stdout",
          "output_type": "stream",
          "text": [
            "(7162, 8)\n"
          ]
        }
      ],
      "source": [
        "ae_df = df.query(\"class_name == 'Aortic enlargement'\")\n",
        "print(ae_df.shape)"
      ]
    },
    {
      "cell_type": "markdown",
      "metadata": {
        "id": "qBkW2vfkeWwq"
      },
      "source": [
        "Lista de imagens que contêm Aortic Enlargement (sem repetidos)"
      ]
    },
    {
      "cell_type": "code",
      "execution_count": 6,
      "metadata": {
        "colab": {
          "base_uri": "https://localhost:8080/"
        },
        "id": "Jkglrp_sdIt-",
        "outputId": "83dca35e-2de1-41f9-dd42-60a012cf7533"
      },
      "outputs": [
        {
          "name": "stdout",
          "output_type": "stream",
          "text": [
            "<class 'numpy.ndarray'>\n",
            "3067\n"
          ]
        }
      ],
      "source": [
        "unique_ae_images = ae_df['image_id'].unique()\n",
        "print(type(unique_ae_images))\n",
        "print(len(unique_ae_images))"
      ]
    },
    {
      "cell_type": "markdown",
      "metadata": {},
      "source": [
        "Lista de imagens que contêm esta lesão para um ficheiro txt"
      ]
    },
    {
      "cell_type": "code",
      "execution_count": 7,
      "metadata": {},
      "outputs": [],
      "source": [
        "output_file = open('aortic_enlargement.txt', 'w')\n",
        "unique_ae_images = [\"{}\\n\".format(image_id) for image_id in unique_ae_images]\n",
        "output_file.writelines(unique_ae_images)\n",
        "output_file.close()"
      ]
    },
    {
      "cell_type": "code",
      "execution_count": 9,
      "metadata": {},
      "outputs": [
        {
          "data": {
            "text/html": [
              "<div>\n",
              "<style scoped>\n",
              "    .dataframe tbody tr th:only-of-type {\n",
              "        vertical-align: middle;\n",
              "    }\n",
              "\n",
              "    .dataframe tbody tr th {\n",
              "        vertical-align: top;\n",
              "    }\n",
              "\n",
              "    .dataframe thead th {\n",
              "        text-align: right;\n",
              "    }\n",
              "</style>\n",
              "<table border=\"1\" class=\"dataframe\">\n",
              "  <thead>\n",
              "    <tr style=\"text-align: right;\">\n",
              "      <th></th>\n",
              "      <th>image_id</th>\n",
              "      <th>class_name</th>\n",
              "      <th>class_id</th>\n",
              "      <th>rad_id</th>\n",
              "      <th>x_min</th>\n",
              "      <th>y_min</th>\n",
              "      <th>x_max</th>\n",
              "      <th>y_max</th>\n",
              "    </tr>\n",
              "  </thead>\n",
              "  <tbody>\n",
              "    <tr>\n",
              "      <th>201</th>\n",
              "      <td>00aca42a24e4ea6066cca2546150c36e</td>\n",
              "      <td>Aortic enlargement</td>\n",
              "      <td>0</td>\n",
              "      <td>R9</td>\n",
              "      <td>1526.0</td>\n",
              "      <td>769.0</td>\n",
              "      <td>1826.0</td>\n",
              "      <td>1118.0</td>\n",
              "    </tr>\n",
              "    <tr>\n",
              "      <th>4379</th>\n",
              "      <td>00aca42a24e4ea6066cca2546150c36e</td>\n",
              "      <td>Aortic enlargement</td>\n",
              "      <td>0</td>\n",
              "      <td>R10</td>\n",
              "      <td>1501.0</td>\n",
              "      <td>776.0</td>\n",
              "      <td>1821.0</td>\n",
              "      <td>1101.0</td>\n",
              "    </tr>\n",
              "    <tr>\n",
              "      <th>27559</th>\n",
              "      <td>00aca42a24e4ea6066cca2546150c36e</td>\n",
              "      <td>Aortic enlargement</td>\n",
              "      <td>0</td>\n",
              "      <td>R8</td>\n",
              "      <td>1506.0</td>\n",
              "      <td>790.0</td>\n",
              "      <td>1831.0</td>\n",
              "      <td>1218.0</td>\n",
              "    </tr>\n",
              "  </tbody>\n",
              "</table>\n",
              "</div>"
            ],
            "text/plain": [
              "                               image_id          class_name  class_id rad_id  \\\n",
              "201    00aca42a24e4ea6066cca2546150c36e  Aortic enlargement         0     R9   \n",
              "4379   00aca42a24e4ea6066cca2546150c36e  Aortic enlargement         0    R10   \n",
              "27559  00aca42a24e4ea6066cca2546150c36e  Aortic enlargement         0     R8   \n",
              "\n",
              "        x_min  y_min   x_max   y_max  \n",
              "201    1526.0  769.0  1826.0  1118.0  \n",
              "4379   1501.0  776.0  1821.0  1101.0  \n",
              "27559  1506.0  790.0  1831.0  1218.0  "
            ]
          },
          "execution_count": 9,
          "metadata": {},
          "output_type": "execute_result"
        }
      ],
      "source": [
        "ae_df.query('image_id == \"00aca42a24e4ea6066cca2546150c36e\"').head()"
      ]
    },
    {
      "cell_type": "markdown",
      "metadata": {
        "id": "RvfWEFIOevFC"
      },
      "source": [
        "## Cardiomegaly"
      ]
    },
    {
      "cell_type": "code",
      "execution_count": 12,
      "metadata": {
        "colab": {
          "base_uri": "https://localhost:8080/"
        },
        "id": "0VtCDWRPevFC",
        "outputId": "d87b4f0d-d490-4162-83e7-213e4c41c731"
      },
      "outputs": [
        {
          "name": "stdout",
          "output_type": "stream",
          "text": [
            "(5427, 8)\n"
          ]
        }
      ],
      "source": [
        "cardio_df = df.query(\"class_name == 'Cardiomegaly'\")\n",
        "print(cardio_df.shape)"
      ]
    },
    {
      "cell_type": "markdown",
      "metadata": {
        "id": "76T_msrQevFC"
      },
      "source": [
        "Lista de imagens que contêm Aortic Enlargement (sem repetidos)"
      ]
    },
    {
      "cell_type": "code",
      "execution_count": 16,
      "metadata": {
        "colab": {
          "base_uri": "https://localhost:8080/"
        },
        "id": "NtuVKuRoevFC",
        "outputId": "83dca35e-2de1-41f9-dd42-60a012cf7533"
      },
      "outputs": [
        {
          "name": "stdout",
          "output_type": "stream",
          "text": [
            "<class 'numpy.ndarray'>\n",
            "2300\n",
            "['9a5094b2563a1ef3ff50dc5c7ff71345' '0622cd29e4e0e4f198abf15614819ae8'\n",
            " '4016b176eaf40d514b0559a0aeb48f21' ... 'e0ad8549835ae5a3208c03ce618e79a0'\n",
            " 'e6a9b0eb532d8aab0ce29b787d81614b' '1691ab3a82040297355b59a34c1e3fa9']\n"
          ]
        }
      ],
      "source": [
        "unique_cardio_images = cardio_df['image_id'].unique()\n",
        "print(type(unique_cardio_images))\n",
        "print(len(unique_cardio_images))\n",
        "print(unique_cardio_images)"
      ]
    },
    {
      "cell_type": "markdown",
      "metadata": {
        "id": "RvfWEFIOevFC"
      },
      "source": [
        "## Pulmunary Fibrosis"
      ]
    },
    {
      "cell_type": "code",
      "execution_count": 14,
      "metadata": {
        "colab": {
          "base_uri": "https://localhost:8080/"
        },
        "id": "0VtCDWRPevFC",
        "outputId": "d87b4f0d-d490-4162-83e7-213e4c41c731"
      },
      "outputs": [
        {
          "name": "stdout",
          "output_type": "stream",
          "text": [
            "(4655, 8)\n"
          ]
        }
      ],
      "source": [
        "pulmo_df = df.query(\"class_name == 'Pulmonary fibrosis'\")\n",
        "print(pulmo_df.shape)"
      ]
    },
    {
      "cell_type": "markdown",
      "metadata": {
        "id": "76T_msrQevFC"
      },
      "source": [
        "Lista de imagens que contêm Aortic Enlargement (sem repetidos)"
      ]
    },
    {
      "cell_type": "code",
      "execution_count": 15,
      "metadata": {
        "colab": {
          "base_uri": "https://localhost:8080/"
        },
        "id": "NtuVKuRoevFC",
        "outputId": "83dca35e-2de1-41f9-dd42-60a012cf7533"
      },
      "outputs": [
        {
          "name": "stdout",
          "output_type": "stream",
          "text": [
            "<class 'numpy.ndarray'>\n",
            "1617\n"
          ]
        }
      ],
      "source": [
        "unique_pulmo_images = pulmo_df['image_id'].unique()\n",
        "print(type(unique_pulmo_images))\n",
        "print(len(unique_pulmo_images))"
      ]
    }
  ],
  "metadata": {
    "colab": {
      "collapsed_sections": [],
      "name": "EAdataset.ipynb",
      "provenance": [],
      "toc_visible": true
    },
    "kernelspec": {
      "display_name": "Python 3",
      "name": "python3"
    },
    "language_info": {
      "codemirror_mode": {
        "name": "ipython",
        "version": 3
      },
      "file_extension": ".py",
      "mimetype": "text/x-python",
      "name": "python",
      "nbconvert_exporter": "python",
      "pygments_lexer": "ipython3",
      "version": "3.8.10"
    }
  },
  "nbformat": 4,
  "nbformat_minor": 0
}
